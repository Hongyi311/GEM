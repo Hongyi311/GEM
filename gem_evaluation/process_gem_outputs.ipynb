{
 "cells": [
  {
   "cell_type": "code",
   "execution_count": null,
   "metadata": {},
   "outputs": [],
   "source": [
    "import os\n",
    "import json"
   ]
  },
  {
   "cell_type": "code",
   "execution_count": null,
   "metadata": {},
   "outputs": [],
   "source": [
    "def get_results(result_dir, test_file):\n",
    "\n",
    "    all_results_dict = {}\n",
    "    with open(result_dir, \"r\", encoding=\"utf-8\") as f:\n",
    "        for line in f:\n",
    "            data = json.loads(line)\n",
    "            all_results_dict[data[\"question_id\"]] = data\n",
    "\n",
    "    with open(test_file, \"r\", encoding=\"utf-8\") as f:\n",
    "        test_data = json.load(f)\n",
    "\n",
    "    final_results = []\n",
    "    for data in test_data:\n",
    "        new_data = {}   \n",
    "        idx = data[\"id\"]\n",
    "        try:\n",
    "            new_data[\"id\"] = idx\n",
    "            new_data[\"ecg\"] = data[\"ecg\"]\n",
    "            new_data[\"image\"] = data[\"image\"]\n",
    "            new_data[\"Model_generated\"] = all_results_dict[idx][\"text\"]\n",
    "            new_data[\"GPT4o_generated\"] = data[\"conversations\"][1][\"value\"]\n",
    "            new_data[\"machine_measurements\"] = data[\"machine_measurements\"]\n",
    "            new_data[\"report\"] = data[\"report\"]\n",
    "            new_data[\"model_id\"] = all_results_dict[idx][\"model_id\"]\n",
    "\n",
    "            final_results.append(new_data)\n",
    "\n",
    "        except:\n",
    "            raise Exception(f\"idx {idx} not found\")\n",
    "\n",
    "    return final_results"
   ]
  },
  {
   "cell_type": "code",
   "execution_count": null,
   "metadata": {},
   "outputs": [],
   "source": [
    "grounding_test_file = \"GEM_Evaluation_PTBXL/process_ptbxl_results/ptbxl_test_grounding_gen.json\" # path to test files\n",
    "\n",
    "result_dir = \"GEM_Evaluation_PTBXL/process_ptbxl_results/raw-results/GEM-ptbxl-raw.jsonl\" # path to gem generated jsonl files"
   ]
  },
  {
   "cell_type": "code",
   "execution_count": null,
   "metadata": {},
   "outputs": [],
   "source": [
    "final_results = get_results(result_dir, grounding_test_file)"
   ]
  },
  {
   "cell_type": "code",
   "execution_count": null,
   "metadata": {},
   "outputs": [],
   "source": [
    "save_name = \"gem7b_ptbxl_results.json\"\n",
    "\n",
    "save_dir = os.path.join(\"GEM_Evaluation_PTBXL/raw_results\", save_name) # save the combined generated files\n",
    "\n",
    "with open(save_dir, \"w\") as f:\n",
    "    json.dump(final_results, f, indent=4)"
   ]
  },
  {
   "cell_type": "code",
   "execution_count": null,
   "metadata": {},
   "outputs": [],
   "source": []
  },
  {
   "cell_type": "code",
   "execution_count": null,
   "metadata": {},
   "outputs": [],
   "source": []
  }
 ],
 "metadata": {
  "kernelspec": {
   "display_name": "llava",
   "language": "python",
   "name": "python3"
  },
  "language_info": {
   "codemirror_mode": {
    "name": "ipython",
    "version": 3
   },
   "file_extension": ".py",
   "mimetype": "text/x-python",
   "name": "python",
   "nbconvert_exporter": "python",
   "pygments_lexer": "ipython3",
   "version": "3.10.16"
  }
 },
 "nbformat": 4,
 "nbformat_minor": 2
}
