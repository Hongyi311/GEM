{
 "cells": [
  {
   "cell_type": "code",
   "execution_count": 1,
   "metadata": {},
   "outputs": [],
   "source": [
    "import os\n",
    "import sys\n",
    "import json\n",
    "import glob"
   ]
  },
  {
   "cell_type": "code",
   "execution_count": null,
   "metadata": {},
   "outputs": [],
   "source": [
    "def get_results(result_dir, test_file):\n",
    "\n",
    "    result_files = glob.glob(f\"{result_dir}/*.jsonl\") # path to gem generated jsonl files\n",
    "\n",
    "    result_dict = {}\n",
    "    for result_file in result_files:\n",
    "        chunk_id = result_file.split(\"/\")[-1].split(\".\")[0].split(\"-\")[0]\n",
    "        result_dict[chunk_id] = result_file\n",
    "\n",
    "    chunks = [f'chunk_{i}' for i in range(8)]\n",
    "    all_results = []\n",
    "    for chunk_id in chunks:\n",
    "        with open(result_dict[chunk_id], \"r\", encoding=\"utf-8\") as f:\n",
    "            for line in f:\n",
    "                data = json.loads(line)\n",
    "                all_results.append(data)\n",
    "\n",
    "    all_results_dict = {}\n",
    "    for result in all_results:\n",
    "        all_results_dict[result[\"question_id\"]] = result\n",
    "\n",
    "    with open(test_file, \"r\", encoding=\"utf-8\") as f:\n",
    "        test_data = json.load(f)\n",
    "\n",
    "    final_results = []\n",
    "    for data in test_data:\n",
    "        new_data = {}   \n",
    "        idx = data[\"id\"]\n",
    "        try:\n",
    "            new_data[\"id\"] = idx\n",
    "            new_data[\"ecg\"] = data[\"ecg\"]\n",
    "            new_data[\"image\"] = data[\"image\"]\n",
    "            new_data[\"GEM_generated\"] = all_results_dict[idx][\"text\"]\n",
    "            new_data[\"GPT4o_generated\"] = data[\"conversations\"][1][\"value\"]\n",
    "            new_data[\"machine_measurements\"] = data[\"machine_measurements\"]\n",
    "            new_data[\"report\"] = data[\"report\"]\n",
    "            new_data[\"model_id\"] = all_results_dict[idx][\"model_id\"]\n",
    "\n",
    "            final_results.append(new_data)\n",
    "\n",
    "        except:\n",
    "            raise Exception(f\"idx {idx} not found\")\n",
    "\n",
    "    return final_results"
   ]
  },
  {
   "cell_type": "code",
   "execution_count": null,
   "metadata": {},
   "outputs": [],
   "source": [
    "grounding_test_file = \"...path_to/ecg-grounding-test.json\" # path to test files\n",
    "\n",
    "result_dir = \"../eval_outputs/xxx/xxx\" # path to gem generated jsonl files"
   ]
  },
  {
   "cell_type": "code",
   "execution_count": 5,
   "metadata": {},
   "outputs": [],
   "source": [
    "final_results = get_results(result_dir, grounding_test_file)"
   ]
  },
  {
   "cell_type": "code",
   "execution_count": null,
   "metadata": {},
   "outputs": [],
   "source": [
    "save_name = \"gem7b_results.json\"\n",
    "\n",
    "save_dir = os.path.join(\"grounding_model_outputs/raw_results\", save_name) # save the combined generated files\n",
    "\n",
    "with open(save_dir, \"w\") as f:\n",
    "    json.dump(final_results, f, indent=4)"
   ]
  },
  {
   "cell_type": "code",
   "execution_count": null,
   "metadata": {},
   "outputs": [],
   "source": []
  },
  {
   "cell_type": "code",
   "execution_count": null,
   "metadata": {},
   "outputs": [],
   "source": []
  }
 ],
 "metadata": {
  "kernelspec": {
   "display_name": "llava",
   "language": "python",
   "name": "python3"
  },
  "language_info": {
   "codemirror_mode": {
    "name": "ipython",
    "version": 3
   },
   "file_extension": ".py",
   "mimetype": "text/x-python",
   "name": "python",
   "nbconvert_exporter": "python",
   "pygments_lexer": "ipython3",
   "version": "3.10.16"
  }
 },
 "nbformat": 4,
 "nbformat_minor": 2
}
